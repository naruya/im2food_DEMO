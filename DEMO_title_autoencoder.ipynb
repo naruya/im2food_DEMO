{
 "cells": [
  {
   "cell_type": "code",
   "execution_count": 1,
   "metadata": {},
   "outputs": [],
   "source": [
    "import gensim\n",
    "import pickle\n",
    "import os\n",
    "import random\n",
    "import numpy as np\n",
    "import matplotlib.pyplot as plt"
   ]
  },
  {
   "cell_type": "code",
   "execution_count": 2,
   "metadata": {},
   "outputs": [],
   "source": [
    "fastText = gensim.models.KeyedVectors.load_word2vec_format('fastText.vec', binary=False)"
   ]
  },
  {
   "cell_type": "code",
   "execution_count": 3,
   "metadata": {},
   "outputs": [
    {
     "name": "stdout",
     "output_type": "stream",
     "text": [
      "menu-0000000-0010000-0000000\n",
      "(256,)\n",
      "[('フルーツ', 0.8731243014335632), ('ジャム', 0.8731242418289185), ('キウィフルーツ', 0.7913082838058472)]\n",
      "menu-0000000-0010000-0000001\n",
      "(256,)\n",
      "[('豚の角煮', 0.9999998807907104), ('カチャトーラ', 0.5733411312103271), ('土佐煮', 0.5723936557769775)]\n",
      "menu-0000000-0010000-0000002\n",
      "(256,)\n",
      "[('おはぎ', 0.7299758195877075), ('やの', 0.7299756407737732), ('茅野', 0.6305214762687683)]\n",
      "menu-0000000-0010000-0000003\n",
      "(256,)\n",
      "[('わかめ', 0.7648988366127014), ('茎', 0.7648986577987671), ('おかわかめ', 0.6870619058609009)]\n",
      "menu-0000000-0010000-0000004\n",
      "(256,)\n",
      "[('ピーマン', 0.7248757481575012), ('肉', 0.6988292336463928), ('肉詰めピーマン', 0.6478877067565918)]\n",
      "menu-0000000-0010000-0000005\n",
      "(256,)\n",
      "[('エスプレッソ', 0.8271960616111755), ('プリン', 0.827195942401886), ('マンゴープリン', 0.7229130864143372)]\n",
      "menu-0000000-0010000-0000006\n",
      "(256,)\n",
      "[('チーズ', 0.7899888157844543), ('リゾット', 0.7899888157844543), ('パルメランチーズ', 0.7318606972694397)]\n",
      "menu-0000000-0010000-0000007\n",
      "(256,)\n",
      "[('肉じゃが', 1.0000001192092896), ('煮物', 0.5996810793876648), ('かぼちゃの煮物', 0.5684722065925598)]\n",
      "283524\n"
     ]
    }
   ],
   "source": [
    "path = \"../food-life-management/\"\n",
    "\n",
    "path_title_V = os.listdir(path + 'recipe_title_V/')\n",
    "path_title_V = ['recipe_title_V/' + p for p in path_title_V]\n",
    "path_title_V.sort()\n",
    "path_title_V = path_title_V[:10]\n",
    "\n",
    "path_title_V = [path + p for p in path_title_V]\n",
    "# print(path_title_V)\n",
    "\n",
    "title_V = {}\n",
    "\n",
    "for path_t_V in path_title_V:\n",
    "    with open(path_t_V, 'rb') as f:\n",
    "        t_V = pickle.load(f)\n",
    "    title_V.update(t_V)\n",
    "\n",
    "# 可視化\n",
    "n=0\n",
    "for key, v in title_V.items():\n",
    "    n+=1\n",
    "    print(key)\n",
    "    print(v.shape)\n",
    "    \n",
    "    print(fastText.most_similar(positive=[v], topn=3))\n",
    "    if n>7:break\n",
    "\n",
    "print(len(title_V.items()))"
   ]
  },
  {
   "cell_type": "markdown",
   "metadata": {},
   "source": [
    "# 料理名ベクトルの分布の様子を可視化\n",
    "# 実は料理名ベクトルはものすごく偏っている！"
   ]
  },
  {
   "cell_type": "code",
   "execution_count": 4,
   "metadata": {},
   "outputs": [
    {
     "data": {
      "image/png": "[encoded data removed]",
      "text/plain": [
       "<matplotlib.figure.Figure at 0x7f18224fe780>"
      ]
     },
     "metadata": {},
     "output_type": "display_data"
    }
   ],
   "source": [
    "TT = np.array(list(title_V.values()))\n",
    "\n",
    "plt.figure(figsize=(15,15))\n",
    "\n",
    "TT_mean = np.mean(TT, axis=0)\n",
    "TT_std = np.std(TT, axis=0)\n",
    "TT_max = np.max(TT, axis=0)\n",
    "TT_min = np.min(TT, axis=0)\n",
    "\n",
    "indecise = np.argsort(TT_std)\n",
    "\n",
    "plt.bar(np.arange(0,256), TT_max[indecise], label=\"max\", linewidth=3)\n",
    "plt.bar(np.arange(0,256), TT_std[indecise], label=\"std\", linewidth=3)\n",
    "plt.bar(np.arange(0,256), TT_min[indecise], label=\"min\", linewidth=3)\n",
    "plt.bar(np.arange(0,256), TT_mean[indecise], label=\"mean\", linewidth=3)\n",
    "\n",
    "plt.legend()\n",
    "plt.show()"
   ]
  },
  {
   "cell_type": "markdown",
   "metadata": {},
   "source": [
    "# cos類似度行列を計算する便利関数"
   ]
  },
  {
   "cell_type": "code",
   "execution_count": 5,
   "metadata": {},
   "outputs": [],
   "source": [
    "def cos_sim_matrix(matrix):\n",
    "    d = matrix @ matrix.T\n",
    "    norm = (matrix * matrix).sum(axis=1, keepdims=True) ** .5\n",
    "    return d / norm / norm.T"
   ]
  },
  {
   "cell_type": "code",
   "execution_count": 6,
   "metadata": {
    "scrolled": false
   },
   "outputs": [
    {
     "name": "stdout",
     "output_type": "stream",
     "text": [
      "任意2点間の平均cos_sim:  0.3063500831456533\n"
     ]
    },
    {
     "data": {
      "image/png": "[encoded data removed]",
      "text/plain": [
       "<matplotlib.figure.Figure at 0x7f18224fe320>"
      ]
     },
     "metadata": {},
     "output_type": "display_data"
    },
    {
     "name": "stdout",
     "output_type": "stream",
     "text": [
      "top5:  [0.79296775 0.80676535 0.81560055 0.82489118 0.93542595]\n",
      "cos_sim > 0.5:  559 個\n",
      "cos_sim > 0.6:  142 個\n",
      "cos_sim > 0.7:  44 個\n",
      "cos_sim > 0.8:  4 個\n",
      "cos_sim > 0.9:  1 個\n"
     ]
    }
   ],
   "source": [
    "import random\n",
    "\n",
    "AA = cos_sim_matrix(TT[:1000])\n",
    "AA = list(AA.flatten())\n",
    "AA = random.sample(AA, 10000)\n",
    "AA = np.array([a for a in AA if not a > 0.999])\n",
    "\n",
    "AA.sort()\n",
    "AA = np.array([a for a in AA if not a > 0.999])\n",
    "print(\"任意2点間の平均cos_sim: \", AA.mean())\n",
    "\n",
    "plt.plot(AA)\n",
    "plt.show()\n",
    "print(\"top5: \", AA[-5:])\n",
    "AA = np.array([a for a in AA if a > 0.5])\n",
    "print(\"cos_sim > 0.5: \", len(AA), \"個\")\n",
    "AA = np.array([a for a in AA if a > 0.6])\n",
    "print(\"cos_sim > 0.6: \", len(AA), \"個\")\n",
    "AA = np.array([a for a in AA if a > 0.7])\n",
    "print(\"cos_sim > 0.7: \", len(AA), \"個\")\n",
    "AA = np.array([a for a in AA if a > 0.8])\n",
    "print(\"cos_sim > 0.8: \", len(AA), \"個\")\n",
    "AA = np.array([a for a in AA if a > 0.9])\n",
    "print(\"cos_sim > 0.9: \", len(AA), \"個\")"
   ]
  },
  {
   "cell_type": "markdown",
   "metadata": {},
   "source": [
    "# 次元の呪いの影響で、\n",
    "# 256次元の空間でのcos類似度0.3というのはかなり問題がある"
   ]
  },
  {
   "cell_type": "code",
   "execution_count": 7,
   "metadata": {},
   "outputs": [
    {
     "name": "stdout",
     "output_type": "stream",
     "text": [
      "(283524, 256)\n",
      "(255171, 256) (28353, 256)\n"
     ]
    }
   ],
   "source": [
    "X = np.array(list(title_V.values()))\n",
    "print(X.shape)\n",
    "\n",
    "from sklearn.model_selection import train_test_split\n",
    "X_train, X_test = train_test_split(X, test_size=0.1)\n",
    "\n",
    "print(X_train.shape, X_test.shape)"
   ]
  },
  {
   "cell_type": "markdown",
   "metadata": {},
   "source": [
    "# AutoEncoder"
   ]
  },
  {
   "cell_type": "code",
   "execution_count": 9,
   "metadata": {},
   "outputs": [
    {
     "name": "stdout",
     "output_type": "stream",
     "text": [
      "_________________________________________________________________\n",
      "Layer (type)                 Output Shape              Param #   \n",
      "=================================================================\n",
      "input_2 (InputLayer)         (None, 256)               0         \n",
      "_________________________________________________________________\n",
      "encoded (Dense)              (None, 256)               65792     \n",
      "_________________________________________________________________\n",
      "decoded (Dense)              (None, 256)               65792     \n",
      "=================================================================\n",
      "Total params: 131,584\n",
      "Trainable params: 131,584\n",
      "Non-trainable params: 0\n",
      "_________________________________________________________________\n"
     ]
    }
   ],
   "source": [
    "from keras.layers import Input, Dense\n",
    "from keras.models import Model\n",
    "import numpy as np\n",
    "import matplotlib.pyplot as plt\n",
    "from keras import optimizers\n",
    "\n",
    "from keras import backend as K\n",
    "\n",
    "encoding_dim = 256\n",
    "inputs = Input(shape=(256,))\n",
    "\n",
    "encoded = Dense(encoding_dim, activation='tanh',name='encoded')(inputs)\n",
    "decoded = Dense(256, activation='tanh', name='decoded')(encoded)\n",
    "autoencoder = Model(inputs=inputs, outputs=decoded)\n",
    "\n",
    "encoder = K.function([autoencoder.get_layer(\"encoded\").input],\n",
    "                     [autoencoder.get_layer(\"encoded\").output])\n",
    "\n",
    "decoder = K.function([autoencoder.get_layer(\"decoded\").input],\n",
    "                     [autoencoder.get_layer(\"decoded\").output])\n",
    "\n",
    "autoencoder.compile(optimizer=optimizers.Adam(lr=1e-4), \n",
    "                    loss='cosine_proximity',)\n",
    "\n",
    "autoencoder.summary()"
   ]
  },
  {
   "cell_type": "code",
   "execution_count": 7,
   "metadata": {
    "scrolled": true
   },
   "outputs": [],
   "source": [
    "autoencoder.compile(optimizer=optimizers.Adam(lr=1e-5), \n",
    "                    loss='cosine_proximity',)\n",
    "hist = autoencoder.fit(X_train, X_train,\n",
    "                epochs=10,\n",
    "                batch_size=32,\n",
    "                shuffle=True,\n",
    "                validation_data=(X_test, X_test))"
   ]
  },
  {
   "cell_type": "markdown",
   "metadata": {},
   "source": [
    "# xのtop1が、yのtop1と一致するか、top2に含まれるか、top3に含まれるか"
   ]
  },
  {
   "cell_type": "code",
   "execution_count": 11,
   "metadata": {
    "scrolled": true
   },
   "outputs": [
    {
     "name": "stdout",
     "output_type": "stream",
     "text": [
      "0 100 200 300 400 500 600 700 800 900 \n",
      "top 0 :  83.0 %\n",
      "top 1 :  99.9 %\n",
      "top 2 :  100.0 %\n",
      "top 3 :  100.0 %\n",
      "top 4 :  100.0 %\n",
      "top 5 :  100.0 %\n",
      "top 6 :  100.0 %\n",
      "top 7 :  100.0 %\n",
      "top 8 :  100.0 %\n",
      "top 9 :  100.0 %\n"
     ]
    }
   ],
   "source": [
    "# 20秒とか\n",
    "samples = 1000\n",
    "\n",
    "indecise = np.random.randint(0, len(X), samples)\n",
    "\n",
    "topn = 10\n",
    "\n",
    "topk = [0]*topn\n",
    "\n",
    "for i,x in enumerate(X[indecise]):\n",
    "    if i % 100 == 0:\n",
    "        print(i, end=\" \")\n",
    "    tmp = np.array(fastText.most_similar(positive=[x], topn=topn))[0,0]\n",
    "    \n",
    "    [y] = autoencoder.predict(x.reshape(1,-1))\n",
    "    \n",
    "    pred = np.array(fastText.most_similar(positive=[y], topn=topn))[:,0]\n",
    "    \n",
    "    \n",
    "    if tmp == pred[0]:\n",
    "        for k in range(topn):\n",
    "            topk[k] += 1\n",
    "    elif tmp == pred[1]:\n",
    "        for k in range(1,topn):\n",
    "            topk[k] += 1\n",
    "    elif tmp == pred[2]:\n",
    "        for k in range(2,topn):\n",
    "            topk[k] += 1\n",
    "    elif tmp == pred[3]:\n",
    "        for k in range(3,topn):\n",
    "            topk[k] += 1\n",
    "    elif tmp == pred[4]:\n",
    "        for k in range(4,topn):\n",
    "            topk[k] += 1\n",
    "    elif tmp == pred[5]:\n",
    "        for k in range(5,topn):\n",
    "            topk[k] += 1\n",
    "    elif tmp == pred[6]:\n",
    "        for k in range(6,topn):\n",
    "            topk[k] += 1\n",
    "    elif tmp == pred[7]:\n",
    "        for k in range(7,topn):\n",
    "            topk[k] += 1\n",
    "    elif tmp == pred[8]:\n",
    "        for k in range(8,topn):\n",
    "            topk[k] += 1\n",
    "    elif tmp == pred[9]:\n",
    "        for k in range(9,topn):\n",
    "            topk[k] += 1\n",
    "\n",
    "print()\n",
    "for k in range(topn):\n",
    "    topk[k] /= samples/100\n",
    "for k in range(topn):\n",
    "    print(\"top\", k, \": \", topk[k], \"%\")\n"
   ]
  },
  {
   "cell_type": "code",
   "execution_count": 17,
   "metadata": {},
   "outputs": [
    {
     "data": {
      "image/png": "[encoded data removed]",
      "text/plain": [
       "<matplotlib.figure.Figure at 0x7f9537da65c0>"
      ]
     },
     "metadata": {},
     "output_type": "display_data"
    }
   ],
   "source": [
    "hist1 = [0] + hist.history[\"loss\"]\n",
    "plt.plot(hist1)\n",
    "plt.show()"
   ]
  },
  {
   "cell_type": "code",
   "execution_count": 9,
   "metadata": {},
   "outputs": [],
   "source": [
    "# autoencoder.save_weights(\"weights/4_256-64_10epochs.hdf5\")\n",
    "autoencoder.load_weights(\"weights/4_256-256_10epochs.hdf5\")"
   ]
  },
  {
   "cell_type": "code",
   "execution_count": 12,
   "metadata": {
    "scrolled": false
   },
   "outputs": [
    {
     "data": {
      "image/png": "[encoded data removed]",
      "text/plain": [
       "<matplotlib.figure.Figure at 0x7f507f7b1550>"
      ]
     },
     "metadata": {},
     "output_type": "display_data"
    },
    {
     "name": "stdout",
     "output_type": "stream",
     "text": [
      "0.1092488\n"
     ]
    }
   ],
   "source": [
    "[TT] = encoder([X[:10000]])\n",
    "\n",
    "plt.figure(figsize=(15,15))\n",
    "\n",
    "TT_mean = np.mean(TT, axis=0)\n",
    "TT_std = np.std(TT, axis=0)\n",
    "TT_max = np.max(TT, axis=0)\n",
    "TT_min = np.min(TT, axis=0)\n",
    "\n",
    "indecise = np.argsort(TT_std)\n",
    "\n",
    "plt.bar(np.arange(0,encoding_dim), TT_max[indecise], label=\"max\", linewidth=3)\n",
    "plt.bar(np.arange(0,encoding_dim), TT_std[indecise], label=\"std\", linewidth=3)\n",
    "plt.bar(np.arange(0,encoding_dim), TT_min[indecise], label=\"min\", linewidth=3)\n",
    "plt.bar(np.arange(0,encoding_dim), TT_mean[indecise], label=\"mean\", linewidth=3)\n",
    "\n",
    "plt.legend()\n",
    "plt.show()\n",
    "\n",
    "print(TT_std.mean())"
   ]
  },
  {
   "cell_type": "code",
   "execution_count": 68,
   "metadata": {
    "scrolled": false
   },
   "outputs": [
    {
     "name": "stdout",
     "output_type": "stream",
     "text": [
      "任意2点間の平均cos_sim:  0.032189522\n"
     ]
    },
    {
     "data": {
      "image/png": "[encoded data removed]",
      "text/plain": [
       "<matplotlib.figure.Figure at 0x7f95df8584a8>"
      ]
     },
     "metadata": {},
     "output_type": "display_data"
    },
    {
     "name": "stdout",
     "output_type": "stream",
     "text": [
      "top5:  [0.69599473 0.70210403 0.72976184 0.72976184 0.8446032 ]\n",
      "cos_sim > 0.5:  31 個\n",
      "cos_sim > 0.6:  15 個\n",
      "cos_sim > 0.7:  4 個\n",
      "cos_sim > 0.8:  1 個\n",
      "cos_sim > 0.9:  0 個\n"
     ]
    }
   ],
   "source": [
    "import random\n",
    "\n",
    "[A] = encoder([X[:1000]])\n",
    "\n",
    "AA = cos_sim_matrix(A)\n",
    "AA = list(AA.flatten())\n",
    "# AA = AA[:10000]\n",
    "AA = random.sample(AA, 10000)\n",
    "AA.sort()\n",
    "AA = np.array([a for a in AA if not a > 0.999])\n",
    "print(\"任意2点間の平均cos_sim: \", AA.mean())\n",
    "\n",
    "plt.plot(AA)\n",
    "plt.show()\n",
    "print(\"top5: \", AA[-5:])\n",
    "AA = np.array([a for a in AA if a > 0.5])\n",
    "print(\"cos_sim > 0.5: \", len(AA), \"個\")\n",
    "AA = np.array([a for a in AA if a > 0.6])\n",
    "print(\"cos_sim > 0.6: \", len(AA), \"個\")\n",
    "AA = np.array([a for a in AA if a > 0.7])\n",
    "print(\"cos_sim > 0.7: \", len(AA), \"個\")\n",
    "AA = np.array([a for a in AA if a > 0.8])\n",
    "print(\"cos_sim > 0.8: \", len(AA), \"個\")\n",
    "AA = np.array([a for a in AA if a > 0.9])\n",
    "print(\"cos_sim > 0.9: \", len(AA), \"個\")"
   ]
  },
  {
   "cell_type": "code",
   "execution_count": 16,
   "metadata": {
    "scrolled": true
   },
   "outputs": [
    {
     "name": "stdout",
     "output_type": "stream",
     "text": [
      "[('ジャム', 0.8733418583869934), ('フルーツ', 0.8727586269378662), ('キウィフルーツ', 0.7911166548728943)]\n",
      "[('豚の角煮', 0.9999167323112488), ('カチャトーラ', 0.5746312737464905), ('土佐煮', 0.5710816979408264)]\n",
      "[('やの', 0.7315585017204285), ('おはぎ', 0.7281984686851501), ('茅野', 0.6322582960128784)]\n",
      "[('茎', 0.765271782875061), ('わかめ', 0.7643400430679321), ('おかわかめ', 0.6866381168365479)]\n",
      "[('ピーマン', 0.7266967296600342), ('肉', 0.6995254158973694), ('肉詰めピーマン', 0.6483163833618164)]\n",
      "[('プリン', 0.8274580240249634), ('エスプレッソ', 0.8267906904220581), ('マンゴープリン', 0.7251315116882324)]\n",
      "[('チーズ', 0.7910290956497192), ('リゾット', 0.7888212203979492), ('パルメランチーズ', 0.7323862910270691)]\n",
      "[('肉じゃが', 0.9999223351478577), ('煮物', 0.599593997001648), ('かぼちゃの煮物', 0.5678032636642456)]\n",
      "[('もち', 0.8089815378189087), ('よもぎ', 0.8074498772621155), ('よも', 0.6492825150489807)]\n",
      "[('スペアリブ', 0.7804889678955078), ('梅酒', 0.780409038066864), ('チキンスペアリブ', 0.7217721343040466)]\n"
     ]
    }
   ],
   "source": [
    "V = list(title_V_autoencoder.values())\n",
    "\n",
    "for v in V[:10]:\n",
    "    [[v]] = decoder([v.reshape(1,-1)])\n",
    "    print(fastText.most_similar(positive=[v], topn=3))"
   ]
  },
  {
   "cell_type": "code",
   "execution_count": 17,
   "metadata": {},
   "outputs": [
    {
     "name": "stdout",
     "output_type": "stream",
     "text": [
      "[('フルーツ', 0.8731243014335632), ('ジャム', 0.8731242418289185), ('キウィフルーツ', 0.7913082838058472)]\n",
      "[('豚の角煮', 0.9999998807907104), ('カチャトーラ', 0.5733411312103271), ('土佐煮', 0.5723936557769775)]\n",
      "[('おはぎ', 0.7299758195877075), ('やの', 0.7299756407737732), ('茅野', 0.6305214762687683)]\n",
      "[('わかめ', 0.7648988366127014), ('茎', 0.7648986577987671), ('おかわかめ', 0.6870619058609009)]\n",
      "[('ピーマン', 0.7248757481575012), ('肉', 0.6988292336463928), ('肉詰めピーマン', 0.6478877067565918)]\n",
      "[('エスプレッソ', 0.8271960616111755), ('プリン', 0.827195942401886), ('マンゴープリン', 0.7229130864143372)]\n",
      "[('チーズ', 0.7899888157844543), ('リゾット', 0.7899888157844543), ('パルメランチーズ', 0.7318606972694397)]\n",
      "[('肉じゃが', 1.0000001192092896), ('煮物', 0.5996810793876648), ('かぼちゃの煮物', 0.5684722065925598)]\n",
      "[('もち', 0.8082996606826782), ('よもぎ', 0.8082994222640991), ('よも', 0.6487313508987427)]\n",
      "[('梅酒', 0.7805392146110535), ('スペアリブ', 0.7805390357971191), ('チキンスペアリブ', 0.7222998142242432)]\n"
     ]
    }
   ],
   "source": [
    "for v in X[:10]:\n",
    "#     [[v]] = decoder([v.reshape(1,-1)])\n",
    "    print(fastText.most_similar(positive=[v], topn=3))"
   ]
  },
  {
   "cell_type": "code",
   "execution_count": 18,
   "metadata": {},
   "outputs": [],
   "source": [
    "autoencoder.save(\"title_autoencoder.hdf5\")"
   ]
  }
 ],
 "metadata": {
  "kernelspec": {
   "display_name": "Python 3",
   "language": "python",
   "name": "python3"
  },
  "language_info": {
   "codemirror_mode": {
    "name": "ipython",
    "version": 3
   },
   "file_extension": ".py",
   "mimetype": "text/x-python",
   "name": "python",
   "nbconvert_exporter": "python",
   "pygments_lexer": "ipython3",
   "version": "3.6.4"
  }
 },
 "nbformat": 4,
 "nbformat_minor": 2
}
