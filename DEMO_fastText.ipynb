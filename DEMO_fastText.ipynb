{
 "cells": [
  {
   "cell_type": "markdown",
   "metadata": {},
   "source": [
    "# ターミナル上で\n",
    "> ./fasttext skipgram -input \"recipe_Owakati.txt\" -output model -dim 256\n",
    "\n",
    "https://github.com/facebookresearch/fastText"
   ]
  },
  {
   "cell_type": "code",
   "execution_count": 1,
   "metadata": {},
   "outputs": [],
   "source": [
    "import gensim\n",
    "\n",
    "model = gensim.models.KeyedVectors.load_word2vec_format('fastText.vec', binary=False)"
   ]
  },
  {
   "cell_type": "code",
   "execution_count": 2,
   "metadata": {},
   "outputs": [
    {
     "data": {
      "text/plain": [
       "[('スパゲッティ', 1.0),\n",
       " ('スパゲッテイ', 0.9237236976623535),\n",
       " ('スパゲッティーニ', 0.9052819013595581),\n",
       " ('スパゲッティー', 0.8971766233444214),\n",
       " ('パスタ', 0.8844748139381409),\n",
       " ('スパゲティ', 0.8803575038909912),\n",
       " ('スパゲテｲ', 0.8798205256462097),\n",
       " ('たらこスパゲッティ', 0.8550637364387512),\n",
       " ('スパゲティーニ', 0.8445439338684082),\n",
       " ('スパゲティー', 0.8392470479011536)]"
      ]
     },
     "execution_count": 2,
     "metadata": {},
     "output_type": "execute_result"
    }
   ],
   "source": [
    "model.most_similar(positive=[model.get_vector('スパゲッティ')])"
   ]
  },
  {
   "cell_type": "code",
   "execution_count": 3,
   "metadata": {},
   "outputs": [
    {
     "data": {
      "text/plain": [
       "[('うどん', 0.8203428983688354),\n",
       " ('カレー', 0.7980211973190308),\n",
       " ('素うどん', 0.7556505799293518),\n",
       " ('カレーうどん', 0.7354272603988647),\n",
       " ('力うどん', 0.7335411310195923),\n",
       " ('伊勢うどん', 0.7153027653694153),\n",
       " ('もつカレー', 0.696282684803009),\n",
       " ('カレー丼', 0.6910361051559448),\n",
       " ('マヨカレー', 0.6882129907608032),\n",
       " ('オムカレー', 0.6847795248031616)]"
      ]
     },
     "execution_count": 3,
     "metadata": {},
     "output_type": "execute_result"
    }
   ],
   "source": [
    "model.most_similar(positive=[model.get_vector('カレー')+model.get_vector('うどん')])"
   ]
  },
  {
   "cell_type": "code",
   "execution_count": 4,
   "metadata": {},
   "outputs": [
    {
     "data": {
      "text/plain": [
       "[('ピーマン', 0.8385316729545593),\n",
       " ('肉', 0.7998672723770142),\n",
       " ('お肉', 0.6682486534118652),\n",
       " ('豚肉', 0.6641311049461365),\n",
       " ('黄ピーマン', 0.6475393772125244),\n",
       " ('肉詰めピーマン', 0.6257506012916565),\n",
       " ('パプリカ', 0.6239820718765259),\n",
       " ('ビーマン', 0.6234256625175476),\n",
       " ('ひきひき', 0.6224393248558044),\n",
       " ('牛肉', 0.6220347881317139)]"
      ]
     },
     "execution_count": 4,
     "metadata": {},
     "output_type": "execute_result"
    }
   ],
   "source": [
    "model.most_similar(positive=[model.get_vector('ピーマン')+model.get_vector('肉')])"
   ]
  },
  {
   "cell_type": "code",
   "execution_count": 5,
   "metadata": {},
   "outputs": [
    {
     "data": {
      "text/plain": [
       "[('握る', 0.8822005391120911),\n",
       " ('ごはん', 0.8160210251808167),\n",
       " ('ご飯', 0.780567467212677),\n",
       " ('にぎる', 0.7759571075439453),\n",
       " ('にぎり', 0.7395458817481995),\n",
       " ('にぎりや', 0.7245469689369202),\n",
       " ('白ごはん', 0.7202981114387512),\n",
       " ('にぎ', 0.7168478965759277),\n",
       " ('おにぎり', 0.7090886235237122),\n",
       " ('白ご飯', 0.7011950016021729)]"
      ]
     },
     "execution_count": 5,
     "metadata": {},
     "output_type": "execute_result"
    }
   ],
   "source": [
    "model.most_similar(positive=[model.get_vector('ごはん')+model.get_vector('握る')])"
   ]
  },
  {
   "cell_type": "code",
   "execution_count": 6,
   "metadata": {},
   "outputs": [
    {
     "data": {
      "text/plain": [
       "0.6988906693846741"
      ]
     },
     "execution_count": 6,
     "metadata": {},
     "output_type": "execute_result"
    }
   ],
   "source": [
    "model.similarity('うどん', 'そば')"
   ]
  },
  {
   "cell_type": "code",
   "execution_count": 7,
   "metadata": {},
   "outputs": [
    {
     "data": {
      "text/plain": [
       "0.05722504176595118"
      ]
     },
     "execution_count": 7,
     "metadata": {},
     "output_type": "execute_result"
    }
   ],
   "source": [
    "model.similarity('うどん', 'ケーキ')"
   ]
  },
  {
   "cell_type": "code",
   "execution_count": null,
   "metadata": {},
   "outputs": [],
   "source": []
  }
 ],
 "metadata": {
  "kernelspec": {
   "display_name": "Python 3",
   "language": "python",
   "name": "python3"
  },
  "language_info": {
   "codemirror_mode": {
    "name": "ipython",
    "version": 3
   },
   "file_extension": ".py",
   "mimetype": "text/x-python",
   "name": "python",
   "nbconvert_exporter": "python",
   "pygments_lexer": "ipython3",
   "version": "3.6.4"
  }
 },
 "nbformat": 4,
 "nbformat_minor": 2
}
